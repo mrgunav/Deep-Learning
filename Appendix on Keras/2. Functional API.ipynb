{
 "cells": [
  {
   "cell_type": "code",
   "execution_count": 1,
   "metadata": {},
   "outputs": [
    {
     "name": "stderr",
     "output_type": "stream",
     "text": [
      "Using TensorFlow backend.\n"
     ]
    }
   ],
   "source": [
    "from IPython.display import SVG\n",
    "from sklearn.datasets import load_digits\n",
    "from keras.utils.vis_utils import model_to_dot\n",
    "from keras.models import Sequential, Model\n",
    "from keras.layers import *"
   ]
  },
  {
   "cell_type": "markdown",
   "metadata": {},
   "source": [
    "### Load dataset\n",
    "- digits dataset in scikit-learn\n",
    "- url: http://scikit-learn.org/stable/auto_examples/datasets/plot_digits_last_image.html"
   ]
  },
  {
   "cell_type": "code",
   "execution_count": 2,
   "metadata": {},
   "outputs": [],
   "source": [
    "data = load_digits()"
   ]
  },
  {
   "cell_type": "code",
   "execution_count": 3,
   "metadata": {},
   "outputs": [],
   "source": [
    "X_data = data.images\n",
    "y_data = data.target"
   ]
  },
  {
   "cell_type": "code",
   "execution_count": 4,
   "metadata": {},
   "outputs": [],
   "source": [
    "# flatten X_data\n",
    "X_data = X_data.reshape(X_data.shape[0], X_data.shape[1]*X_data.shape[2])"
   ]
  },
  {
   "cell_type": "code",
   "execution_count": 5,
   "metadata": {},
   "outputs": [
    {
     "name": "stdout",
     "output_type": "stream",
     "text": [
      "(1797, 64)\n",
      "(1797,)\n"
     ]
    }
   ],
   "source": [
    "# shape of data\n",
    "print(X_data.shape)\n",
    "print(y_data.shape)    "
   ]
  },
  {
   "cell_type": "markdown",
   "metadata": {},
   "source": [
    "## Model Functional API\n",
    "- Creating models by Sequential API is easy and simple, but it is impossible to create complicated model structures\n",
    "- For instance, inception or residual net structure is impossible to implement using Sequential API since they require operations such as layer merging and multiple outputs\n",
    "- In this case, one could take advantage of Functional API\n",
    "    - Create model by defining inputs and outputs\n",
    "\n",
    "<br>\n",
    "<img src=\"http://www.deeplearningmodel.net/img/googlenet/googlenet_block.png\" style=\"width: 300px\"/>\n",
    "<center> **Inception Module in GoogleNet** </center>\n",
    "\n",
    "<img src=\"http://cv-tricks.com/wp-content/uploads/2017/03/600x299xResNet.png.pagespeed.ic.M1J-VkbWPB.png\" style=\"width: 300px\"/>\n",
    "<center> **Resudiual Structure in ResNet** </center>"
   ]
  },
  {
   "cell_type": "markdown",
   "metadata": {},
   "source": [
    "### Single input & output\n",
    "- Model with only single input & output\n",
    "- Such structure is able to create using Sequential API as well"
   ]
  },
  {
   "cell_type": "code",
   "execution_count": 6,
   "metadata": {},
   "outputs": [],
   "source": [
    "# creating layers\n",
    "input_layer = Input(shape = X_data.shape[1:])\n",
    "activation_1 = Activation('relu')(input_layer)\n",
    "hidden_layer = Dense(50)(activation_1)\n",
    "activation_2 = Activation('relu')(hidden_layer)\n",
    "output_layer = Dense(10, activation = 'softmax')(activation_2)"
   ]
  },
  {
   "cell_type": "code",
   "execution_count": 7,
   "metadata": {},
   "outputs": [],
   "source": [
    "# creating model\n",
    "model = Model(inputs = input_layer, outputs = output_layer)"
   ]
  },
  {
   "cell_type": "code",
   "execution_count": 8,
   "metadata": {},
   "outputs": [
    {
     "name": "stdout",
     "output_type": "stream",
     "text": [
      "Model: \"model_1\"\n",
      "_________________________________________________________________\n",
      "Layer (type)                 Output Shape              Param #   \n",
      "=================================================================\n",
      "input_1 (InputLayer)         (None, 64)                0         \n",
      "_________________________________________________________________\n",
      "activation_1 (Activation)    (None, 64)                0         \n",
      "_________________________________________________________________\n",
      "dense_1 (Dense)              (None, 50)                3250      \n",
      "_________________________________________________________________\n",
      "activation_2 (Activation)    (None, 50)                0         \n",
      "_________________________________________________________________\n",
      "dense_2 (Dense)              (None, 10)                510       \n",
      "=================================================================\n",
      "Total params: 3,760\n",
      "Trainable params: 3,760\n",
      "Non-trainable params: 0\n",
      "_________________________________________________________________\n"
     ]
    }
   ],
   "source": [
    "model.summary()"
   ]
  },
  {
   "cell_type": "markdown",
   "metadata": {},
   "source": [
    "### Merging layers\n",
    "- Sometimes, it is necessary to merge layers (e.g., GoogleNet or ResNet)"
   ]
  },
  {
   "cell_type": "markdown",
   "metadata": {},
   "source": [
    "#### 1. concatenate\n",
    "- concatenate() simply merges results of two or more layers\n",
    "- For instance, assume there are two layers to be concatenated, whose results are\n",
    "**[x1, x2, ..., xn]** and **[y1, y2, ..., yn]**. Then, concatenated layer would be **[x1, ..., xn, ..., y1, ..., yn]**"
   ]
  },
  {
   "cell_type": "code",
   "execution_count": 12,
   "metadata": {},
   "outputs": [
    {
     "name": "stdout",
     "output_type": "stream",
     "text": [
      "(?, 50)\n",
      "(?, 50)\n",
      "(?, 100)\n"
     ]
    }
   ],
   "source": [
    "# creating layers\n",
    "input_layer = Input(shape = X_data.shape[1:])\n",
    "activation_1 = Activation('relu')(input_layer)\n",
    "hidden_layer_1 = Dense(50, activation = 'relu')(activation_1)\n",
    "hidden_layer_2 = Dense(50, activation = 'relu')(activation_1)\n",
    "concat_layer = concatenate([hidden_layer_1, hidden_layer_2])\n",
    "output_layer = Dense(10, activation = 'softmax')(concat_layer)\n",
    "print(hidden_layer_1.shape)\n",
    "print(hidden_layer_2.shape)\n",
    "print(concat_layer.shape)"
   ]
  },
  {
   "cell_type": "code",
   "execution_count": 13,
   "metadata": {},
   "outputs": [],
   "source": [
    "model = Model(inputs = input_layer, outputs = output_layer)"
   ]
  },
  {
   "cell_type": "code",
   "execution_count": 14,
   "metadata": {},
   "outputs": [
    {
     "name": "stdout",
     "output_type": "stream",
     "text": [
      "Model: \"model_3\"\n",
      "__________________________________________________________________________________________________\n",
      "Layer (type)                    Output Shape         Param #     Connected to                     \n",
      "==================================================================================================\n",
      "input_4 (InputLayer)            (None, 64)           0                                            \n",
      "__________________________________________________________________________________________________\n",
      "activation_5 (Activation)       (None, 64)           0           input_4[0][0]                    \n",
      "__________________________________________________________________________________________________\n",
      "dense_8 (Dense)                 (None, 50)           3250        activation_5[0][0]               \n",
      "__________________________________________________________________________________________________\n",
      "dense_9 (Dense)                 (None, 50)           3250        activation_5[0][0]               \n",
      "__________________________________________________________________________________________________\n",
      "concatenate_3 (Concatenate)     (None, 100)          0           dense_8[0][0]                    \n",
      "                                                                 dense_9[0][0]                    \n",
      "__________________________________________________________________________________________________\n",
      "dense_10 (Dense)                (None, 10)           1010        concatenate_3[0][0]              \n",
      "==================================================================================================\n",
      "Total params: 7,510\n",
      "Trainable params: 7,510\n",
      "Non-trainable params: 0\n",
      "__________________________________________________________________________________________________\n"
     ]
    }
   ],
   "source": [
    "model.summary()"
   ]
  },
  {
   "cell_type": "code",
   "execution_count": 16,
   "metadata": {},
   "outputs": [
    {
     "data": {
      "image/svg+xml": [
       "<svg height=\"449pt\" viewBox=\"0.00 0.00 234.25 337.00\" width=\"312pt\" xmlns=\"http://www.w3.org/2000/svg\" xmlns:xlink=\"http://www.w3.org/1999/xlink\">\n",
       "<g class=\"graph\" id=\"graph0\" transform=\"scale(1.3333 1.3333) rotate(0) translate(4 333)\">\n",
       "<title>G</title>\n",
       "<polygon fill=\"#ffffff\" points=\"-4,4 -4,-333 230.252,-333 230.252,4 -4,4\" stroke=\"transparent\"/>\n",
       "<!-- 5224266552 -->\n",
       "<g class=\"node\" id=\"node1\">\n",
       "<title>5224266552</title>\n",
       "<polygon fill=\"none\" points=\"48.9448,-292.5 48.9448,-328.5 177.3071,-328.5 177.3071,-292.5 48.9448,-292.5\" stroke=\"#000000\"/>\n",
       "<text fill=\"#000000\" font-family=\"Times,serif\" font-size=\"14.00\" text-anchor=\"middle\" x=\"113.126\" y=\"-306.3\">input_4: InputLayer</text>\n",
       "</g>\n",
       "<!-- 5224266496 -->\n",
       "<g class=\"node\" id=\"node2\">\n",
       "<title>5224266496</title>\n",
       "<polygon fill=\"none\" points=\"37.6655,-219.5 37.6655,-255.5 188.5864,-255.5 188.5864,-219.5 37.6655,-219.5\" stroke=\"#000000\"/>\n",
       "<text fill=\"#000000\" font-family=\"Times,serif\" font-size=\"14.00\" text-anchor=\"middle\" x=\"113.126\" y=\"-233.3\">activation_5: Activation</text>\n",
       "</g>\n",
       "<!-- 5224266552&#45;&gt;5224266496 -->\n",
       "<g class=\"edge\" id=\"edge1\">\n",
       "<title>5224266552-&gt;5224266496</title>\n",
       "<path d=\"M113.126,-292.4551C113.126,-284.3828 113.126,-274.6764 113.126,-265.6817\" fill=\"none\" stroke=\"#000000\"/>\n",
       "<polygon fill=\"#000000\" points=\"116.6261,-265.5903 113.126,-255.5904 109.6261,-265.5904 116.6261,-265.5903\" stroke=\"#000000\"/>\n",
       "</g>\n",
       "<!-- 5224266776 -->\n",
       "<g class=\"node\" id=\"node3\">\n",
       "<title>5224266776</title>\n",
       "<polygon fill=\"none\" points=\"0,-146.5 0,-182.5 104.252,-182.5 104.252,-146.5 0,-146.5\" stroke=\"#000000\"/>\n",
       "<text fill=\"#000000\" font-family=\"Times,serif\" font-size=\"14.00\" text-anchor=\"middle\" x=\"52.126\" y=\"-160.3\">dense_8: Dense</text>\n",
       "</g>\n",
       "<!-- 5224266496&#45;&gt;5224266776 -->\n",
       "<g class=\"edge\" id=\"edge2\">\n",
       "<title>5224266496-&gt;5224266776</title>\n",
       "<path d=\"M98.0473,-219.4551C90.7155,-210.6809 81.7703,-199.9759 73.7292,-190.353\" fill=\"none\" stroke=\"#000000\"/>\n",
       "<polygon fill=\"#000000\" points=\"76.3406,-188.0197 67.2426,-182.5904 70.969,-192.5082 76.3406,-188.0197\" stroke=\"#000000\"/>\n",
       "</g>\n",
       "<!-- 5224267392 -->\n",
       "<g class=\"node\" id=\"node4\">\n",
       "<title>5224267392</title>\n",
       "<polygon fill=\"none\" points=\"122,-146.5 122,-182.5 226.252,-182.5 226.252,-146.5 122,-146.5\" stroke=\"#000000\"/>\n",
       "<text fill=\"#000000\" font-family=\"Times,serif\" font-size=\"14.00\" text-anchor=\"middle\" x=\"174.126\" y=\"-160.3\">dense_9: Dense</text>\n",
       "</g>\n",
       "<!-- 5224266496&#45;&gt;5224267392 -->\n",
       "<g class=\"edge\" id=\"edge3\">\n",
       "<title>5224266496-&gt;5224267392</title>\n",
       "<path d=\"M128.2046,-219.4551C135.5365,-210.6809 144.4817,-199.9759 152.5228,-190.353\" fill=\"none\" stroke=\"#000000\"/>\n",
       "<polygon fill=\"#000000\" points=\"155.2829,-192.5082 159.0094,-182.5904 149.9114,-188.0197 155.2829,-192.5082\" stroke=\"#000000\"/>\n",
       "</g>\n",
       "<!-- 5224267280 -->\n",
       "<g class=\"node\" id=\"node5\">\n",
       "<title>5224267280</title>\n",
       "<polygon fill=\"none\" points=\"26.8066,-73.5 26.8066,-109.5 199.4453,-109.5 199.4453,-73.5 26.8066,-73.5\" stroke=\"#000000\"/>\n",
       "<text fill=\"#000000\" font-family=\"Times,serif\" font-size=\"14.00\" text-anchor=\"middle\" x=\"113.126\" y=\"-87.3\">concatenate_3: Concatenate</text>\n",
       "</g>\n",
       "<!-- 5224266776&#45;&gt;5224267280 -->\n",
       "<g class=\"edge\" id=\"edge4\">\n",
       "<title>5224266776-&gt;5224267280</title>\n",
       "<path d=\"M67.2046,-146.4551C74.5365,-137.6809 83.4817,-126.9759 91.5228,-117.353\" fill=\"none\" stroke=\"#000000\"/>\n",
       "<polygon fill=\"#000000\" points=\"94.2829,-119.5082 98.0094,-109.5904 88.9114,-115.0197 94.2829,-119.5082\" stroke=\"#000000\"/>\n",
       "</g>\n",
       "<!-- 5224267392&#45;&gt;5224267280 -->\n",
       "<g class=\"edge\" id=\"edge5\">\n",
       "<title>5224267392-&gt;5224267280</title>\n",
       "<path d=\"M159.0473,-146.4551C151.7155,-137.6809 142.7703,-126.9759 134.7292,-117.353\" fill=\"none\" stroke=\"#000000\"/>\n",
       "<polygon fill=\"#000000\" points=\"137.3406,-115.0197 128.2426,-109.5904 131.969,-119.5082 137.3406,-115.0197\" stroke=\"#000000\"/>\n",
       "</g>\n",
       "<!-- 5224273512 -->\n",
       "<g class=\"node\" id=\"node6\">\n",
       "<title>5224273512</title>\n",
       "<polygon fill=\"none\" points=\"57.5,-.5 57.5,-36.5 168.752,-36.5 168.752,-.5 57.5,-.5\" stroke=\"#000000\"/>\n",
       "<text fill=\"#000000\" font-family=\"Times,serif\" font-size=\"14.00\" text-anchor=\"middle\" x=\"113.126\" y=\"-14.3\">dense_10: Dense</text>\n",
       "</g>\n",
       "<!-- 5224267280&#45;&gt;5224273512 -->\n",
       "<g class=\"edge\" id=\"edge6\">\n",
       "<title>5224267280-&gt;5224273512</title>\n",
       "<path d=\"M113.126,-73.4551C113.126,-65.3828 113.126,-55.6764 113.126,-46.6817\" fill=\"none\" stroke=\"#000000\"/>\n",
       "<polygon fill=\"#000000\" points=\"116.6261,-46.5903 113.126,-36.5904 109.6261,-46.5904 116.6261,-46.5903\" stroke=\"#000000\"/>\n",
       "</g>\n",
       "</g>\n",
       "</svg>"
      ],
      "text/plain": [
       "<IPython.core.display.SVG object>"
      ]
     },
     "execution_count": 16,
     "metadata": {},
     "output_type": "execute_result"
    }
   ],
   "source": [
    "SVG(model_to_dot(model).create(prog='dot', format='svg'))"
   ]
  },
  {
   "cell_type": "markdown",
   "metadata": {},
   "source": [
    "#### 2. add, subtract, multiply, average, maximum\n",
    "- Such layers perform element-wise operations over all corresponding elements of two or more layers\n",
    "- Hence, dimensionality of the input layers are preserved"
   ]
  },
  {
   "cell_type": "code",
   "execution_count": 17,
   "metadata": {},
   "outputs": [
    {
     "name": "stdout",
     "output_type": "stream",
     "text": [
      "(?, 50)\n",
      "(?, 50)\n",
      "(?, 50)\n"
     ]
    }
   ],
   "source": [
    "# creating layers\n",
    "input_layer = Input(shape = X_data.shape[1:])\n",
    "activation_1 = Activation('relu')(input_layer)\n",
    "hidden_layer_1 = Dense(50, activation = 'relu')(activation_1)\n",
    "hidden_layer_2 = Dense(50, activation = 'relu')(activation_1)\n",
    "add_layer = add([hidden_layer_1, hidden_layer_2])\n",
    "output_layer = Dense(10, activation = 'softmax')(add_layer)\n",
    "\n",
    "print(hidden_layer_1.shape)\n",
    "print(hidden_layer_2.shape)\n",
    "print(add_layer.shape)"
   ]
  },
  {
   "cell_type": "code",
   "execution_count": 18,
   "metadata": {},
   "outputs": [
    {
     "name": "stdout",
     "output_type": "stream",
     "text": [
      "Model: \"model_4\"\n",
      "__________________________________________________________________________________________________\n",
      "Layer (type)                    Output Shape         Param #     Connected to                     \n",
      "==================================================================================================\n",
      "input_5 (InputLayer)            (None, 64)           0                                            \n",
      "__________________________________________________________________________________________________\n",
      "activation_6 (Activation)       (None, 64)           0           input_5[0][0]                    \n",
      "__________________________________________________________________________________________________\n",
      "dense_11 (Dense)                (None, 50)           3250        activation_6[0][0]               \n",
      "__________________________________________________________________________________________________\n",
      "dense_12 (Dense)                (None, 50)           3250        activation_6[0][0]               \n",
      "__________________________________________________________________________________________________\n",
      "add_1 (Add)                     (None, 50)           0           dense_11[0][0]                   \n",
      "                                                                 dense_12[0][0]                   \n",
      "__________________________________________________________________________________________________\n",
      "dense_13 (Dense)                (None, 10)           510         add_1[0][0]                      \n",
      "==================================================================================================\n",
      "Total params: 7,010\n",
      "Trainable params: 7,010\n",
      "Non-trainable params: 0\n",
      "__________________________________________________________________________________________________\n"
     ]
    },
    {
     "data": {
      "image/svg+xml": [
       "<svg height=\"449pt\" viewBox=\"0.00 0.00 248.00 337.00\" width=\"331pt\" xmlns=\"http://www.w3.org/2000/svg\" xmlns:xlink=\"http://www.w3.org/1999/xlink\">\n",
       "<g class=\"graph\" id=\"graph0\" transform=\"scale(1.3333 1.3333) rotate(0) translate(4 333)\">\n",
       "<title>G</title>\n",
       "<polygon fill=\"#ffffff\" points=\"-4,4 -4,-333 243.9956,-333 243.9956,4 -4,4\" stroke=\"transparent\"/>\n",
       "<!-- 5225465784 -->\n",
       "<g class=\"node\" id=\"node1\">\n",
       "<title>5225465784</title>\n",
       "<polygon fill=\"none\" points=\"55.1885,-292.5 55.1885,-328.5 183.5508,-328.5 183.5508,-292.5 55.1885,-292.5\" stroke=\"#000000\"/>\n",
       "<text fill=\"#000000\" font-family=\"Times,serif\" font-size=\"14.00\" text-anchor=\"middle\" x=\"119.3696\" y=\"-306.3\">input_5: InputLayer</text>\n",
       "</g>\n",
       "<!-- 5226000848 -->\n",
       "<g class=\"node\" id=\"node2\">\n",
       "<title>5226000848</title>\n",
       "<polygon fill=\"none\" points=\"43.9092,-219.5 43.9092,-255.5 194.8301,-255.5 194.8301,-219.5 43.9092,-219.5\" stroke=\"#000000\"/>\n",
       "<text fill=\"#000000\" font-family=\"Times,serif\" font-size=\"14.00\" text-anchor=\"middle\" x=\"119.3696\" y=\"-233.3\">activation_6: Activation</text>\n",
       "</g>\n",
       "<!-- 5225465784&#45;&gt;5226000848 -->\n",
       "<g class=\"edge\" id=\"edge1\">\n",
       "<title>5225465784-&gt;5226000848</title>\n",
       "<path d=\"M119.3696,-292.4551C119.3696,-284.3828 119.3696,-274.6764 119.3696,-265.6817\" fill=\"none\" stroke=\"#000000\"/>\n",
       "<polygon fill=\"#000000\" points=\"122.8697,-265.5903 119.3696,-255.5904 115.8697,-265.5904 122.8697,-265.5903\" stroke=\"#000000\"/>\n",
       "</g>\n",
       "<!-- 5225470720 -->\n",
       "<g class=\"node\" id=\"node3\">\n",
       "<title>5225470720</title>\n",
       "<polygon fill=\"none\" points=\"0,-146.5 0,-182.5 110.7393,-182.5 110.7393,-146.5 0,-146.5\" stroke=\"#000000\"/>\n",
       "<text fill=\"#000000\" font-family=\"Times,serif\" font-size=\"14.00\" text-anchor=\"middle\" x=\"55.3696\" y=\"-160.3\">dense_11: Dense</text>\n",
       "</g>\n",
       "<!-- 5226000848&#45;&gt;5225470720 -->\n",
       "<g class=\"edge\" id=\"edge2\">\n",
       "<title>5226000848-&gt;5225470720</title>\n",
       "<path d=\"M103.5494,-219.4551C95.857,-210.6809 86.4718,-199.9759 78.0353,-190.353\" fill=\"none\" stroke=\"#000000\"/>\n",
       "<polygon fill=\"#000000\" points=\"80.4538,-187.8024 71.2297,-182.5904 75.1902,-192.4171 80.4538,-187.8024\" stroke=\"#000000\"/>\n",
       "</g>\n",
       "<!-- 5226001072 -->\n",
       "<g class=\"node\" id=\"node4\">\n",
       "<title>5226001072</title>\n",
       "<polygon fill=\"none\" points=\"128.7437,-146.5 128.7437,-182.5 239.9956,-182.5 239.9956,-146.5 128.7437,-146.5\" stroke=\"#000000\"/>\n",
       "<text fill=\"#000000\" font-family=\"Times,serif\" font-size=\"14.00\" text-anchor=\"middle\" x=\"184.3696\" y=\"-160.3\">dense_12: Dense</text>\n",
       "</g>\n",
       "<!-- 5226000848&#45;&gt;5226001072 -->\n",
       "<g class=\"edge\" id=\"edge3\">\n",
       "<title>5226000848-&gt;5226001072</title>\n",
       "<path d=\"M135.437,-219.4551C143.3278,-210.5932 152.9723,-199.7616 161.6066,-190.0646\" fill=\"none\" stroke=\"#000000\"/>\n",
       "<polygon fill=\"#000000\" points=\"164.2257,-192.3863 168.2618,-182.5904 158.9978,-187.7313 164.2257,-192.3863\" stroke=\"#000000\"/>\n",
       "</g>\n",
       "<!-- 5223216520 -->\n",
       "<g class=\"node\" id=\"node5\">\n",
       "<title>5223216520</title>\n",
       "<polygon fill=\"none\" points=\"78.8955,-73.5 78.8955,-109.5 159.8438,-109.5 159.8438,-73.5 78.8955,-73.5\" stroke=\"#000000\"/>\n",
       "<text fill=\"#000000\" font-family=\"Times,serif\" font-size=\"14.00\" text-anchor=\"middle\" x=\"119.3696\" y=\"-87.3\">add_1: Add</text>\n",
       "</g>\n",
       "<!-- 5225470720&#45;&gt;5223216520 -->\n",
       "<g class=\"edge\" id=\"edge4\">\n",
       "<title>5225470720-&gt;5223216520</title>\n",
       "<path d=\"M71.1899,-146.4551C78.8823,-137.6809 88.2674,-126.9759 96.704,-117.353\" fill=\"none\" stroke=\"#000000\"/>\n",
       "<polygon fill=\"#000000\" points=\"99.549,-119.4171 103.5096,-109.5904 94.2854,-114.8024 99.549,-119.4171\" stroke=\"#000000\"/>\n",
       "</g>\n",
       "<!-- 5226001072&#45;&gt;5223216520 -->\n",
       "<g class=\"edge\" id=\"edge5\">\n",
       "<title>5226001072-&gt;5223216520</title>\n",
       "<path d=\"M168.3022,-146.4551C160.4115,-137.5932 150.767,-126.7616 142.1327,-117.0646\" fill=\"none\" stroke=\"#000000\"/>\n",
       "<polygon fill=\"#000000\" points=\"144.7415,-114.7313 135.4775,-109.5904 139.5135,-119.3863 144.7415,-114.7313\" stroke=\"#000000\"/>\n",
       "</g>\n",
       "<!-- 5226002640 -->\n",
       "<g class=\"node\" id=\"node6\">\n",
       "<title>5226002640</title>\n",
       "<polygon fill=\"none\" points=\"63.7437,-.5 63.7437,-36.5 174.9956,-36.5 174.9956,-.5 63.7437,-.5\" stroke=\"#000000\"/>\n",
       "<text fill=\"#000000\" font-family=\"Times,serif\" font-size=\"14.00\" text-anchor=\"middle\" x=\"119.3696\" y=\"-14.3\">dense_13: Dense</text>\n",
       "</g>\n",
       "<!-- 5223216520&#45;&gt;5226002640 -->\n",
       "<g class=\"edge\" id=\"edge6\">\n",
       "<title>5223216520-&gt;5226002640</title>\n",
       "<path d=\"M119.3696,-73.4551C119.3696,-65.3828 119.3696,-55.6764 119.3696,-46.6817\" fill=\"none\" stroke=\"#000000\"/>\n",
       "<polygon fill=\"#000000\" points=\"122.8697,-46.5903 119.3696,-36.5904 115.8697,-46.5904 122.8697,-46.5903\" stroke=\"#000000\"/>\n",
       "</g>\n",
       "</g>\n",
       "</svg>"
      ],
      "text/plain": [
       "<IPython.core.display.SVG object>"
      ]
     },
     "execution_count": 18,
     "metadata": {},
     "output_type": "execute_result"
    }
   ],
   "source": [
    "model = Model(inputs = input_layer, outputs = output_layer)\n",
    "\n",
    "model.summary()\n",
    "\n",
    "SVG(model_to_dot(model).create(prog='dot', format='svg'))"
   ]
  },
  {
   "cell_type": "markdown",
   "metadata": {},
   "source": [
    "#### 3. dot\n",
    "- dot() performs inner product operation between two layer results\n",
    "- 'axes' should be defined to perform the operation"
   ]
  },
  {
   "cell_type": "code",
   "execution_count": 19,
   "metadata": {},
   "outputs": [
    {
     "name": "stdout",
     "output_type": "stream",
     "text": [
      "(?, 50)\n",
      "(?, 50)\n",
      "(?, 1)\n"
     ]
    }
   ],
   "source": [
    "# creating layers\n",
    "input_layer = Input(shape = X_data.shape[1:])\n",
    "activation_1 = Activation('relu')(input_layer)\n",
    "hidden_layer_1 = Dense(50, activation = 'relu')(activation_1)\n",
    "hidden_layer_2 = Dense(50, activation = 'relu')(activation_1)\n",
    "dot_layer = dot([hidden_layer_1, hidden_layer_2], axes = -1)\n",
    "output_layer = Dense(10, activation = 'softmax')(dot_layer)\n",
    "\n",
    "print(hidden_layer_1.shape)\n",
    "print(hidden_layer_2.shape)\n",
    "print(dot_layer.shape)"
   ]
  },
  {
   "cell_type": "code",
   "execution_count": 20,
   "metadata": {},
   "outputs": [
    {
     "name": "stdout",
     "output_type": "stream",
     "text": [
      "Model: \"model_5\"\n",
      "__________________________________________________________________________________________________\n",
      "Layer (type)                    Output Shape         Param #     Connected to                     \n",
      "==================================================================================================\n",
      "input_6 (InputLayer)            (None, 64)           0                                            \n",
      "__________________________________________________________________________________________________\n",
      "activation_7 (Activation)       (None, 64)           0           input_6[0][0]                    \n",
      "__________________________________________________________________________________________________\n",
      "dense_14 (Dense)                (None, 50)           3250        activation_7[0][0]               \n",
      "__________________________________________________________________________________________________\n",
      "dense_15 (Dense)                (None, 50)           3250        activation_7[0][0]               \n",
      "__________________________________________________________________________________________________\n",
      "dot_1 (Dot)                     (None, 1)            0           dense_14[0][0]                   \n",
      "                                                                 dense_15[0][0]                   \n",
      "__________________________________________________________________________________________________\n",
      "dense_16 (Dense)                (None, 10)           20          dot_1[0][0]                      \n",
      "==================================================================================================\n",
      "Total params: 6,520\n",
      "Trainable params: 6,520\n",
      "Non-trainable params: 0\n",
      "__________________________________________________________________________________________________\n"
     ]
    },
    {
     "data": {
      "image/svg+xml": [
       "<svg height=\"449pt\" viewBox=\"0.00 0.00 248.25 337.00\" width=\"331pt\" xmlns=\"http://www.w3.org/2000/svg\" xmlns:xlink=\"http://www.w3.org/1999/xlink\">\n",
       "<g class=\"graph\" id=\"graph0\" transform=\"scale(1.3333 1.3333) rotate(0) translate(4 333)\">\n",
       "<title>G</title>\n",
       "<polygon fill=\"#ffffff\" points=\"-4,4 -4,-333 244.252,-333 244.252,4 -4,4\" stroke=\"transparent\"/>\n",
       "<!-- 5226300640 -->\n",
       "<g class=\"node\" id=\"node1\">\n",
       "<title>5226300640</title>\n",
       "<polygon fill=\"none\" points=\"55.4448,-292.5 55.4448,-328.5 183.8071,-328.5 183.8071,-292.5 55.4448,-292.5\" stroke=\"#000000\"/>\n",
       "<text fill=\"#000000\" font-family=\"Times,serif\" font-size=\"14.00\" text-anchor=\"middle\" x=\"119.626\" y=\"-306.3\">input_6: InputLayer</text>\n",
       "</g>\n",
       "<!-- 5226330936 -->\n",
       "<g class=\"node\" id=\"node2\">\n",
       "<title>5226330936</title>\n",
       "<polygon fill=\"none\" points=\"44.1655,-219.5 44.1655,-255.5 195.0864,-255.5 195.0864,-219.5 44.1655,-219.5\" stroke=\"#000000\"/>\n",
       "<text fill=\"#000000\" font-family=\"Times,serif\" font-size=\"14.00\" text-anchor=\"middle\" x=\"119.626\" y=\"-233.3\">activation_7: Activation</text>\n",
       "</g>\n",
       "<!-- 5226300640&#45;&gt;5226330936 -->\n",
       "<g class=\"edge\" id=\"edge1\">\n",
       "<title>5226300640-&gt;5226330936</title>\n",
       "<path d=\"M119.626,-292.4551C119.626,-284.3828 119.626,-274.6764 119.626,-265.6817\" fill=\"none\" stroke=\"#000000\"/>\n",
       "<polygon fill=\"#000000\" points=\"123.1261,-265.5903 119.626,-255.5904 116.1261,-265.5904 123.1261,-265.5903\" stroke=\"#000000\"/>\n",
       "</g>\n",
       "<!-- 5226293288 -->\n",
       "<g class=\"node\" id=\"node3\">\n",
       "<title>5226293288</title>\n",
       "<polygon fill=\"none\" points=\"0,-146.5 0,-182.5 111.252,-182.5 111.252,-146.5 0,-146.5\" stroke=\"#000000\"/>\n",
       "<text fill=\"#000000\" font-family=\"Times,serif\" font-size=\"14.00\" text-anchor=\"middle\" x=\"55.626\" y=\"-160.3\">dense_14: Dense</text>\n",
       "</g>\n",
       "<!-- 5226330936&#45;&gt;5226293288 -->\n",
       "<g class=\"edge\" id=\"edge2\">\n",
       "<title>5226330936-&gt;5226293288</title>\n",
       "<path d=\"M103.8057,-219.4551C96.1133,-210.6809 86.7282,-199.9759 78.2916,-190.353\" fill=\"none\" stroke=\"#000000\"/>\n",
       "<polygon fill=\"#000000\" points=\"80.7102,-187.8024 71.486,-182.5904 75.4466,-192.4171 80.7102,-187.8024\" stroke=\"#000000\"/>\n",
       "</g>\n",
       "<!-- 5226388728 -->\n",
       "<g class=\"node\" id=\"node4\">\n",
       "<title>5226388728</title>\n",
       "<polygon fill=\"none\" points=\"129,-146.5 129,-182.5 240.252,-182.5 240.252,-146.5 129,-146.5\" stroke=\"#000000\"/>\n",
       "<text fill=\"#000000\" font-family=\"Times,serif\" font-size=\"14.00\" text-anchor=\"middle\" x=\"184.626\" y=\"-160.3\">dense_15: Dense</text>\n",
       "</g>\n",
       "<!-- 5226330936&#45;&gt;5226388728 -->\n",
       "<g class=\"edge\" id=\"edge3\">\n",
       "<title>5226330936-&gt;5226388728</title>\n",
       "<path d=\"M135.6934,-219.4551C143.5841,-210.5932 153.2286,-199.7616 161.8629,-190.0646\" fill=\"none\" stroke=\"#000000\"/>\n",
       "<polygon fill=\"#000000\" points=\"164.4821,-192.3863 168.5181,-182.5904 159.2541,-187.7313 164.4821,-192.3863\" stroke=\"#000000\"/>\n",
       "</g>\n",
       "<!-- 5226389176 -->\n",
       "<g class=\"node\" id=\"node5\">\n",
       "<title>5226389176</title>\n",
       "<polygon fill=\"none\" points=\"81.4863,-73.5 81.4863,-109.5 157.7656,-109.5 157.7656,-73.5 81.4863,-73.5\" stroke=\"#000000\"/>\n",
       "<text fill=\"#000000\" font-family=\"Times,serif\" font-size=\"14.00\" text-anchor=\"middle\" x=\"119.626\" y=\"-87.3\">dot_1: Dot</text>\n",
       "</g>\n",
       "<!-- 5226293288&#45;&gt;5226389176 -->\n",
       "<g class=\"edge\" id=\"edge4\">\n",
       "<title>5226293288-&gt;5226389176</title>\n",
       "<path d=\"M71.4462,-146.4551C79.1386,-137.6809 88.5238,-126.9759 96.9603,-117.353\" fill=\"none\" stroke=\"#000000\"/>\n",
       "<polygon fill=\"#000000\" points=\"99.8054,-119.4171 103.7659,-109.5904 94.5418,-114.8024 99.8054,-119.4171\" stroke=\"#000000\"/>\n",
       "</g>\n",
       "<!-- 5226388728&#45;&gt;5226389176 -->\n",
       "<g class=\"edge\" id=\"edge5\">\n",
       "<title>5226388728-&gt;5226389176</title>\n",
       "<path d=\"M168.5586,-146.4551C160.6678,-137.5932 151.0233,-126.7616 142.389,-117.0646\" fill=\"none\" stroke=\"#000000\"/>\n",
       "<polygon fill=\"#000000\" points=\"144.9978,-114.7313 135.7338,-109.5904 139.7699,-119.3863 144.9978,-114.7313\" stroke=\"#000000\"/>\n",
       "</g>\n",
       "<!-- 5226385872 -->\n",
       "<g class=\"node\" id=\"node6\">\n",
       "<title>5226385872</title>\n",
       "<polygon fill=\"none\" points=\"64,-.5 64,-36.5 175.252,-36.5 175.252,-.5 64,-.5\" stroke=\"#000000\"/>\n",
       "<text fill=\"#000000\" font-family=\"Times,serif\" font-size=\"14.00\" text-anchor=\"middle\" x=\"119.626\" y=\"-14.3\">dense_16: Dense</text>\n",
       "</g>\n",
       "<!-- 5226389176&#45;&gt;5226385872 -->\n",
       "<g class=\"edge\" id=\"edge6\">\n",
       "<title>5226389176-&gt;5226385872</title>\n",
       "<path d=\"M119.626,-73.4551C119.626,-65.3828 119.626,-55.6764 119.626,-46.6817\" fill=\"none\" stroke=\"#000000\"/>\n",
       "<polygon fill=\"#000000\" points=\"123.1261,-46.5903 119.626,-36.5904 116.1261,-46.5904 123.1261,-46.5903\" stroke=\"#000000\"/>\n",
       "</g>\n",
       "</g>\n",
       "</svg>"
      ],
      "text/plain": [
       "<IPython.core.display.SVG object>"
      ]
     },
     "execution_count": 20,
     "metadata": {},
     "output_type": "execute_result"
    }
   ],
   "source": [
    "model = Model(inputs = input_layer, outputs = output_layer)\n",
    "\n",
    "model.summary()\n",
    "\n",
    "SVG(model_to_dot(model).create(prog='dot', format='svg'))"
   ]
  },
  {
   "cell_type": "code",
   "execution_count": null,
   "metadata": {},
   "outputs": [],
   "source": []
  }
 ],
 "metadata": {
  "kernelspec": {
   "display_name": "Python 3",
   "language": "python",
   "name": "python3"
  },
  "language_info": {
   "codemirror_mode": {
    "name": "ipython",
    "version": 3
   },
   "file_extension": ".py",
   "mimetype": "text/x-python",
   "name": "python",
   "nbconvert_exporter": "python",
   "pygments_lexer": "ipython3",
   "version": "3.6.4"
  }
 },
 "nbformat": 4,
 "nbformat_minor": 2
}
